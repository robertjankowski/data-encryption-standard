{
 "cells": [
  {
   "cell_type": "markdown",
   "source": [
    "### Example usage of DES\n",
    "\n",
    "Robert Jankowski"
   ],
   "metadata": {
    "collapsed": false,
    "pycharm": {
     "name": "#%% md\n"
    }
   }
  },
  {
   "cell_type": "code",
   "execution_count": 2,
   "metadata": {
    "collapsed": true
   },
   "outputs": [],
   "source": [
    "%load_ext autoreload\n",
    "%autoreload 2\n",
    "\n",
    "from des import DES, DEFAULT_KEY"
   ]
  },
  {
   "cell_type": "code",
   "execution_count": 9,
   "outputs": [
    {
     "name": "stdout",
     "output_type": "stream",
     "text": [
      "Default key = \n",
      "\n",
      "0  1  1  0  0  0  1  1  \n",
      "0  1  1  1  0  0  1  0  \n",
      "0  1  1  0  1  0  0  1  \n",
      "0  1  1  0  1  1  0  1  \n",
      "0  1  1  0  1  0  0  1  \n",
      "0  1  1  0  1  1  1  0  \n",
      "0  1  1  0  0  0  0  1  \n",
      "0  1  1  0  1  1  0  0  "
     ]
    }
   ],
   "source": [
    "print('Default key = ')\n",
    "for i in range(len(DEFAULT_KEY)):\n",
    "    if i % 8 == 0:\n",
    "        print()\n",
    "    print(DEFAULT_KEY[i], \" \", end='')"
   ],
   "metadata": {
    "collapsed": false,
    "pycharm": {
     "name": "#%%\n"
    }
   }
  },
  {
   "cell_type": "code",
   "execution_count": 13,
   "outputs": [
    {
     "name": "stdout",
     "output_type": "stream",
     "text": [
      "Encrypting: Testing DES algorithm\n",
      "Output: \n",
      "8648efda9281fd22\n",
      "c87953be6c52dfb9\n",
      "3fa3125e95bae469\n"
     ]
    }
   ],
   "source": [
    "from scripts.text_utils import bits_to_text\n",
    "\n",
    "message = 'Testing DES algorithm'\n",
    "\n",
    "d = DES()\n",
    "encrypted_message = d.encrypt(message)\n",
    "print('Encrypting: {}'.format(message))\n",
    "print('Output: ')\n",
    "for x in encrypted_message:\n",
    "    print(bits_to_text(x).hex())"
   ],
   "metadata": {
    "collapsed": false,
    "pycharm": {
     "name": "#%%\n"
    }
   }
  },
  {
   "cell_type": "code",
   "execution_count": 18,
   "outputs": [
    {
     "name": "stdout",
     "output_type": "stream",
     "text": [
      "Decryption: \n",
      "b'Testing '\n",
      "b'DES algo'\n",
      "b'rithm   '\n",
      "Output: Testing DES algorithm   \n"
     ]
    }
   ],
   "source": [
    "print('Decryption: ')\n",
    "output = []\n",
    "for x in encrypted_message:\n",
    "    decrypted_message = d.decrypt(x)\n",
    "    output.append(decrypted_message)\n",
    "    print(decrypted_message)\n",
    "\n",
    "print('Output: {}'.format(''.join(map(lambda x: x.decode('ascii'), output))))\n"
   ],
   "metadata": {
    "collapsed": false,
    "pycharm": {
     "name": "#%%\n"
    }
   }
  }
 ],
 "metadata": {
  "kernelspec": {
   "display_name": "Python 3",
   "language": "python",
   "name": "python3"
  },
  "language_info": {
   "codemirror_mode": {
    "name": "ipython",
    "version": 2
   },
   "file_extension": ".py",
   "mimetype": "text/x-python",
   "name": "python",
   "nbconvert_exporter": "python",
   "pygments_lexer": "ipython2",
   "version": "2.7.6"
  }
 },
 "nbformat": 4,
 "nbformat_minor": 0
}